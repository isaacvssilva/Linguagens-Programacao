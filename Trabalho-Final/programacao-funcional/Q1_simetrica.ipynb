{
  "nbformat": 4,
  "nbformat_minor": 0,
  "metadata": {
    "colab": {
      "provenance": [],
      "authorship_tag": "ABX9TyM0k6yf1HOlsAjWd80TiUD3"
    },
    "kernelspec": {
      "name": "python3",
      "display_name": "Python 3"
    },
    "language_info": {
      "name": "python"
    }
  },
  "cells": [
    {
      "cell_type": "code",
      "source": [
        "# author: Isaac Vinicius - 500935\n",
        "# Disciplina: Linguagens de Programação 2022.2"
      ],
      "metadata": {
        "id": "SBkYTRInhAhL"
      },
      "execution_count": null,
      "outputs": []
    },
    {
      "cell_type": "markdown",
      "source": [
        "# Faça um programa que receba duas listas A e B e imprima a diferença simétrica de A e B. A diferença simétrica de A e B é dada por (A-B) U (B-A)."
      ],
      "metadata": {
        "id": "0zKVl4wrg7wW"
      }
    },
    {
      "cell_type": "code",
      "source": [
        "# lista nao vazia e se o elemento esta na primeira ou proxima posicao\n",
        "pertence = lambda elm, Lista: len(Lista) > 0 and (elm == Lista[0] or pertence(elm, Lista[1:]))\n",
        "\n",
        "# selecionando quem esta em L1 e não esta em L2\n",
        "contem = lambda L1, L2: filter(lambda x: not(pertence(x, L2)), L1)\n",
        "\n",
        "diferenca = lambda L1, L2: list(contem(L1, L2)) + list(contem(L2, L1))\n",
        "\n",
        "print(' '.join(diferenca(input().split(), input().split())))"
      ],
      "metadata": {
        "id": "IMXQHnqRwp-A",
        "colab": {
          "base_uri": "https://localhost:8080/"
        },
        "outputId": "7ce22eac-6885-444a-b6cf-64eac553399d"
      },
      "execution_count": 10,
      "outputs": [
        {
          "output_type": "stream",
          "name": "stdout",
          "text": [
            "1 2 3 4\n",
            "1 2 5 6\n",
            "3 4 5 6\n"
          ]
        }
      ]
    }
  ]
}