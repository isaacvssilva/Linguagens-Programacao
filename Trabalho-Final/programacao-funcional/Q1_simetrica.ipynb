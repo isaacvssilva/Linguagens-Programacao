{
  "nbformat": 4,
  "nbformat_minor": 0,
  "metadata": {
    "colab": {
      "provenance": [],
      "authorship_tag": "ABX9TyMJwDkNh5Ds6LRS9/lN5iJW"
    },
    "kernelspec": {
      "name": "python3",
      "display_name": "Python 3"
    },
    "language_info": {
      "name": "python"
    }
  },
  "cells": [
    {
      "cell_type": "code",
      "source": [
        "# author: Isaac Vinicius - 500935\n",
        "# Disciplina: Linguagens de Programação 2022.2"
      ],
      "metadata": {
        "id": "SBkYTRInhAhL"
      },
      "execution_count": 1,
      "outputs": []
    },
    {
      "cell_type": "markdown",
      "source": [
        "# Faça um programa que receba duas listas A e B e imprima a diferença simétrica de A e B. A diferença simétrica de A e B é dada por (A-B) U (B-A)."
      ],
      "metadata": {
        "id": "0zKVl4wrg7wW"
      }
    },
    {
      "cell_type": "code",
      "source": [
        "# lista nao vazia e se o elemento esta na primeira ou proxima posicao\n",
        "pertence = lambda elm, Lista: len(Lista) > 0 and (elm == Lista[0] or pertence(elm, Lista[1:]))\n",
        "\n",
        "# selecionando quem esta em L1 e não esta em L2\n",
        "contem = lambda L1, L2: filter(lambda x: not(pertence(x, L2)), L1)\n",
        "\n",
        "diferenca = lambda L1, L2: list(contem(L1, L2)) + list(contem(L2, L1))\n",
        "\n",
        "print(diferenca(input().split(), input().split()))"
      ],
      "metadata": {
        "id": "IMXQHnqRwp-A",
        "colab": {
          "base_uri": "https://localhost:8080/"
        },
        "outputId": "f2b9fc12-4d88-4318-964a-066237c34805"
      },
      "execution_count": 7,
      "outputs": [
        {
          "output_type": "stream",
          "name": "stdout",
          "text": [
            "1 2 3 4\n",
            "5 4 1 2\n",
            "['3', '5']\n"
          ]
        }
      ]
    }
  ]
}