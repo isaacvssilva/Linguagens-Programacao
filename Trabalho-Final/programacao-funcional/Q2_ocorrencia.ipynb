{
  "nbformat": 4,
  "nbformat_minor": 0,
  "metadata": {
    "colab": {
      "provenance": [],
      "authorship_tag": "ABX9TyM0BG6ZbqeWjf/iw7C1077e"
    },
    "kernelspec": {
      "name": "python3",
      "display_name": "Python 3"
    },
    "language_info": {
      "name": "python"
    }
  },
  "cells": [
    {
      "cell_type": "code",
      "source": [
        "# author: Isaac Vinicius - 500935\n",
        "# Disciplina: Linguagens de Programação 2022.2"
      ],
      "metadata": {
        "id": "SBkYTRInhAhL"
      },
      "execution_count": null,
      "outputs": []
    },
    {
      "cell_type": "markdown",
      "source": [
        "# Faça um programa que receba uma lista de inteiros L e dois números p e q inteiros e imprima a lista L sendo que toda ocorrência de p deve ser trocada por p+q."
      ],
      "metadata": {
        "id": "0zKVl4wrg7wW"
      }
    },
    {
      "cell_type": "code",
      "source": [
        "# lista [1 2 3 4]\n",
        "# p = 4, q = 2s\n",
        "\n",
        "# lista [1 2 3 6]"
      ],
      "metadata": {
        "id": "ocKoQaqSwrV5"
      },
      "execution_count": null,
      "outputs": []
    },
    {
      "cell_type": "code",
      "source": [
        "soma = lambda x, y: x + y\n",
        "\n",
        "def ocorrencia(L, p, q):\n",
        "    if len(L) == 0:\n",
        "        return False\n",
        "    else:\n",
        "      troca = lambda elm: soma(p, q) if elm == p else elm\n",
        "      return (list(map(troca, L)))\n",
        "\n",
        "# (list(map(int, input().split())))\n",
        "# lista[], p, q\n",
        "#print(ocorrencia(list(map(int, input().split())), int(input()), int(input())))\n",
        "\n",
        "print (' '.join(map(str, ocorrencia(list(map(int, input().split())), int(input()), int(input()))) ))"
      ],
      "metadata": {
        "colab": {
          "base_uri": "https://localhost:8080/"
        },
        "id": "wYqXmHUMdD42",
        "outputId": "cdc86334-6607-4636-f98c-a91e9889131f"
      },
      "execution_count": 32,
      "outputs": [
        {
          "output_type": "stream",
          "name": "stdout",
          "text": [
            "5 1 2 3 5\n",
            "5\n",
            "10\n",
            "15 1 2 3 15\n"
          ]
        }
      ]
    }
  ]
}