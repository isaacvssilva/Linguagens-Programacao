{
  "nbformat": 4,
  "nbformat_minor": 0,
  "metadata": {
    "colab": {
      "provenance": [],
      "authorship_tag": "ABX9TyOw2DQ8gClVX5f7E2rKJonC"
    },
    "kernelspec": {
      "name": "python3",
      "display_name": "Python 3"
    },
    "language_info": {
      "name": "python"
    }
  },
  "cells": [
    {
      "cell_type": "code",
      "source": [
        "# author: Isaac Vinicius - 500935\n",
        "# Disciplina: Linguagens de Programação 2022.2"
      ],
      "metadata": {
        "id": "SBkYTRInhAhL"
      },
      "execution_count": 1,
      "outputs": []
    },
    {
      "cell_type": "markdown",
      "source": [
        "# Faça um programa que recebe um inteiro positivo n e uma string W e determina se W contém uma substring de tamanho maior ou igual a n que é palíndroma. A saída deve ser apenas as palavras sim ou nao."
      ],
      "metadata": {
        "id": "0zKVl4wrg7wW"
      }
    },
    {
      "cell_type": "code",
      "source": [
        "# verificando se a string é palindroma\n",
        "def is_palindroma(w):\n",
        "    return w == w[::-1]\n",
        "#print(is_palindroma(input()))"
      ],
      "metadata": {
        "id": "rlWHQynKli3p"
      },
      "execution_count": 2,
      "outputs": []
    },
    {
      "cell_type": "code",
      "source": [
        "# se len(w) >= n, e w não for palidroma, então falso\n",
        "# se len(w) >= n e w é palindroma, então verdadeiro"
      ],
      "metadata": {
        "id": "L7LWhUIRZmSD"
      },
      "execution_count": 3,
      "outputs": []
    },
    {
      "cell_type": "code",
      "source": [
        "verifica_tamanho = lambda n, w: (len(w) >= n and is_palindroma(w)) and \"sim\" or \"nao\"\n",
        "\n",
        "print(verifica_tamanho(int(input()), input()))"
      ],
      "metadata": {
        "colab": {
          "base_uri": "https://localhost:8080/"
        },
        "id": "59HSa1lmY1wm",
        "outputId": "8793d0fd-fbb5-4913-d9cd-df9070244bd7"
      },
      "execution_count": 8,
      "outputs": [
        {
          "output_type": "stream",
          "name": "stdout",
          "text": [
            "4\n",
            "arara\n",
            "sim\n"
          ]
        }
      ]
    }
  ]
}