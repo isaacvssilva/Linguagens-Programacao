{
  "nbformat": 4,
  "nbformat_minor": 0,
  "metadata": {
    "colab": {
      "provenance": [],
      "authorship_tag": "ABX9TyPD8ijWU/Pyn7lNbBzehthP",
      "include_colab_link": true
    },
    "kernelspec": {
      "name": "python3",
      "display_name": "Python 3"
    },
    "language_info": {
      "name": "python"
    }
  },
  "cells": [
    {
      "cell_type": "markdown",
      "metadata": {
        "id": "view-in-github",
        "colab_type": "text"
      },
      "source": [
        "<a href=\"https://colab.research.google.com/github/isaacvssilva/Linguagens-Programacao-2022.2/blob/main/Trabalho-Final/programacao-funcional/Q4_n_primos.ipynb\" target=\"_parent\"><img src=\"https://colab.research.google.com/assets/colab-badge.svg\" alt=\"Open In Colab\"/></a>"
      ]
    },
    {
      "cell_type": "code",
      "source": [
        "# author: Isaac Vinicius - 500935\n",
        "# Disciplina: Linguagens de Programação 2022.2"
      ],
      "metadata": {
        "id": "SBkYTRInhAhL"
      },
      "execution_count": 1,
      "outputs": []
    },
    {
      "cell_type": "markdown",
      "source": [
        "# Faça um programa que receba uma lista de inteiros e imprima somente os números que são primos."
      ],
      "metadata": {
        "id": "vg9kcGrZgaGb"
      }
    },
    {
      "cell_type": "code",
      "source": [
        "is_primo = lambda X: len(\n",
        "    list(filter(lambda i: X % i == 0, range(2, X)))\n",
        ") == 0"
      ],
      "metadata": {
        "id": "j7xvyAK3bkCK"
      },
      "execution_count": 2,
      "outputs": []
    },
    {
      "cell_type": "code",
      "source": [
        "print (' '.join(map(str,list(filter(is_primo, list(map(int, input().split())))))))"
      ],
      "metadata": {
        "colab": {
          "base_uri": "https://localhost:8080/"
        },
        "id": "BF5PT7g4e0jy",
        "outputId": "afbdcdc6-6221-4247-ee36-16fe1736ccc1"
      },
      "execution_count": 7,
      "outputs": [
        {
          "output_type": "stream",
          "name": "stdout",
          "text": [
            "1 2 3 5 4 8 11 9\n",
            "1 2 3 5 11\n"
          ]
        }
      ]
    }
  ]
}