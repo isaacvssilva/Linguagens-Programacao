{
  "nbformat": 4,
  "nbformat_minor": 0,
  "metadata": {
    "colab": {
      "provenance": [],
      "authorship_tag": "ABX9TyOMYA3jGg1nwfKPKbXYElNB"
    },
    "kernelspec": {
      "name": "python3",
      "display_name": "Python 3"
    },
    "language_info": {
      "name": "python"
    }
  },
  "cells": [
    {
      "cell_type": "code",
      "source": [
        "# author: Isaac Vinicius - 500935\n",
        "# Disciplina: Linguagens de Programação 2022.2"
      ],
      "metadata": {
        "id": "SBkYTRInhAhL"
      },
      "execution_count": 4,
      "outputs": []
    },
    {
      "cell_type": "markdown",
      "source": [
        "# Faça um programa que receba uma lista de inteiros e imprima somente os números que são primos."
      ],
      "metadata": {
        "id": "vg9kcGrZgaGb"
      }
    },
    {
      "cell_type": "code",
      "source": [
        "is_primo = lambda X: len(\n",
        "    list(filter(lambda i: X % i == 0, range(2, X)))\n",
        ") == 0"
      ],
      "metadata": {
        "id": "j7xvyAK3bkCK"
      },
      "execution_count": 2,
      "outputs": []
    },
    {
      "cell_type": "code",
      "source": [
        "print(list(filter(is_primo, list(map(int, input().split())))))\n"
      ],
      "metadata": {
        "colab": {
          "base_uri": "https://localhost:8080/"
        },
        "id": "BF5PT7g4e0jy",
        "outputId": "e9178d40-c5f5-4562-d978-978d0dd15cee"
      },
      "execution_count": 3,
      "outputs": [
        {
          "output_type": "stream",
          "name": "stdout",
          "text": [
            "1 2 3 5 4 8 11 9\n",
            "[1, 2, 3, 5, 11]\n"
          ]
        }
      ]
    }
  ]
}