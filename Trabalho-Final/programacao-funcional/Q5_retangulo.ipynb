{
  "nbformat": 4,
  "nbformat_minor": 0,
  "metadata": {
    "colab": {
      "provenance": [],
      "authorship_tag": "ABX9TyOgW158VCUGtrgW5uApral9",
      "include_colab_link": true
    },
    "kernelspec": {
      "name": "python3",
      "display_name": "Python 3"
    },
    "language_info": {
      "name": "python"
    }
  },
  "cells": [
    {
      "cell_type": "markdown",
      "metadata": {
        "id": "view-in-github",
        "colab_type": "text"
      },
      "source": [
        "<a href=\"https://colab.research.google.com/github/isaacvssilva/Linguagens-Programacao-2022.2/blob/main/Trabalho-Final/programacao-funcional/Q5_retangulo.ipynb\" target=\"_parent\"><img src=\"https://colab.research.google.com/assets/colab-badge.svg\" alt=\"Open In Colab\"/></a>"
      ]
    },
    {
      "cell_type": "code",
      "source": [
        "# author: Isaac Vinicius - 500935\n",
        "# Disciplina: Linguagens de Programação 2022.2"
      ],
      "metadata": {
        "id": "SBkYTRInhAhL"
      },
      "execution_count": 1,
      "outputs": []
    },
    {
      "cell_type": "markdown",
      "source": [
        "# Faça um programa que receba como entrada coordenadas de um retângulo no plano e um ponto p no plano, e imprima ‘sim’ se o ponto p está dentro do retângulo e ‘nao’ caso contrário. Suponha que o retângulo seja representado por uma tupla (int, int, int, int), contendo respectivamente as coordenadas x e y do ponto no seu canto inferior esquerdo, seguidas das suas medidas de largura e altura. Considere, ainda, que o eixo y cresce de baixo para cima e o eixo x cresce da esquerda para direita."
      ],
      "metadata": {
        "id": "0zKVl4wrg7wW"
      }
    },
    {
      "cell_type": "code",
      "source": [
        "soma = lambda a, b: a + b\n",
        "def contido(Px, Py, X, Y, altura, largura):\n",
        "    if Px >= X and Px <= soma(X, largura) and Py >= Y and Py <= soma(Y, altura):\n",
        "      return str('sim')\n",
        "    else:\n",
        "      return str('nao')\n",
        "print(contido(int(input()), int(input()), int(input()), int(input()),int(input()), int(input())))"
      ],
      "metadata": {
        "colab": {
          "base_uri": "https://localhost:8080/"
        },
        "id": "0xmwmVIaS7b5",
        "outputId": "490a4ff2-2410-428a-96bc-d51201099199"
      },
      "execution_count": 29,
      "outputs": [
        {
          "output_type": "stream",
          "name": "stdout",
          "text": [
            "6\n",
            "6\n",
            "1\n",
            "1\n",
            "4\n",
            "4\n",
            "nao\n"
          ]
        }
      ]
    }
  ]
}